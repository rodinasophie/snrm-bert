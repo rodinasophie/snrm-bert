{
 "cells": [
  {
   "cell_type": "code",
   "execution_count": 15,
   "metadata": {},
   "outputs": [
    {
     "name": "stdout",
     "output_type": "stream",
     "text": [
      "The autoreload extension is already loaded. To reload it, use:\n",
      "  %reload_ext autoreload\n"
     ]
    }
   ],
   "source": [
    "# Automatic reload of local libraries\n",
    "%load_ext autoreload\n",
    "%autoreload 2\n",
    "%reload_ext autoreload"
   ]
  },
  {
   "cell_type": "code",
   "execution_count": 19,
   "metadata": {},
   "outputs": [
    {
     "name": "stdout",
     "output_type": "stream",
     "text": [
      "Namespace(batch_size=3, dmax_len=10000, docs='stub_data/docs.csv', drop_prob=0.6, embeddings='/home/mrim/data/embeddings/cc.ru.300.bin', epochs=2, inverted_index='./inverted_index.csv', is_stub=1, layers=[300, 200, 5000], learning_rate=5e-05, output_file='./model.pth', params='params_local.json', qmax_len=100, qrels='stub_data/qrels', queries='stub_data/queries.csv', reg_lambda=1e-07, summary_folder='./snrm-summary/')\n",
      "Running....\n",
      "Device to use: cpu\n",
      "Preprocessing data started...\n",
      "   index   0  1   2  3\n",
      "0     10  10  0  11  1\n",
      "1      2   2  0   3  1\n",
      "2      8   8  0   9  1\n",
      "3      1   1  0   2  1\n",
      "4      7   7  0   8  1\n",
      "5      9   9  0  10  1\n",
      "6      3   3  0   4  1\n",
      "7      0   0  0   1  1\n",
      "8      5   5  0   6  1\n",
      "Finished.\n",
      "Training, epoch # 0\n",
      "(3, 100, 300)\n"
     ]
    },
    {
     "name": "stderr",
     "output_type": "stream",
     "text": [
      "Traceback (most recent call last):\n",
      "  File \"train.py\", line 113, in <module>\n",
      "    run(args)\n",
      "  File \"train.py\", line 96, in run\n",
      "    train_and_validate(args, model, mi_generator)\n",
      "  File \"train.py\", line 55, in train_and_validate\n",
      "    train_loss = model.train(train_batch)\n",
      "  File \"C:\\Users\\sonya\\Desktop\\snrm-bert\\snrm\\snrm.py\", line 123, in train\n",
      "    loss.backward()\n",
      "  File \"C:\\Users\\sonya\\Anaconda3\\lib\\site-packages\\torch\\tensor.py\", line 118, in backward\n",
      "    torch.autograd.backward(self, gradient, retain_graph, create_graph)\n",
      "  File \"C:\\Users\\sonya\\Anaconda3\\lib\\site-packages\\torch\\autograd\\__init__.py\", line 87, in backward\n",
      "    grad_tensors = _make_grads(tensors, grad_tensors)\n",
      "  File \"C:\\Users\\sonya\\Anaconda3\\lib\\site-packages\\torch\\autograd\\__init__.py\", line 28, in _make_grads\n",
      "    raise RuntimeError(\"grad can be implicitly created only for scalar outputs\")\n",
      "RuntimeError: grad can be implicitly created only for scalar outputs\n"
     ]
    }
   ],
   "source": [
    "!python -u train.py --params=params_local.json"
   ]
  },
  {
   "cell_type": "code",
   "execution_count": null,
   "metadata": {},
   "outputs": [],
   "source": []
  }
 ],
 "metadata": {
  "kernelspec": {
   "display_name": "Python 3",
   "language": "python",
   "name": "python3"
  },
  "language_info": {
   "codemirror_mode": {
    "name": "ipython",
    "version": 3
   },
   "file_extension": ".py",
   "mimetype": "text/x-python",
   "name": "python",
   "nbconvert_exporter": "python",
   "pygments_lexer": "ipython3",
   "version": "3.7.3"
  }
 },
 "nbformat": 4,
 "nbformat_minor": 2
}
